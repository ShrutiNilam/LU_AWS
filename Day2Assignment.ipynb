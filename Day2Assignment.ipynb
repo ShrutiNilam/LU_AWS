{
 "cells": [
  {
   "cell_type": "markdown",
   "metadata": {
    "id": "VbzwLcRbzce4"
   },
   "source": [
    "# Question 1:\n",
    "Create an empty list. Accept 10 numbers from the user and append to it the list if it is an even number."
   ]
  },
  {
   "cell_type": "code",
   "execution_count": 11,
   "metadata": {
    "colab": {
     "base_uri": "https://localhost:8080/"
    },
    "executionInfo": {
     "elapsed": 21423,
     "status": "ok",
     "timestamp": 1605108111814,
     "user": {
      "displayName": "Shubham Prakash WiyImcVBax",
      "photoUrl": "",
      "userId": "04105622286568371892"
     },
     "user_tz": -330
    },
    "id": "7se6Lwrq0Ing",
    "outputId": "c487c68a-321e-45e0-e2e9-3417726eee66"
   },
   "outputs": [
    {
     "name": "stdout",
     "output_type": "stream",
     "text": [
      "5\n",
      "6\n",
      "6\n",
      "2\n",
      "1\n",
      "4\n",
      "5\n",
      "4\n",
      "2\n",
      "52\n",
      "[6, 6, 2, 4, 4, 2, 52]\n"
     ]
    }
   ],
   "source": [
    " list1=[]\n",
    "for i in range(0,10):\n",
    "    numb=int(input())\n",
    "    if(numb%2==0):\n",
    "        list1.append(numb)\n",
    "print(list1)\n"
   ]
  },
  {
   "cell_type": "markdown",
   "metadata": {
    "id": "l8Qz2TD2zwJr"
   },
   "source": [
    "# Questions 2:\n",
    "Create a notebook on LIST COMPREHENSION. This exercise is to put you in a Self learning mode"
   ]
  },
  {
   "cell_type": "code",
   "execution_count": 12,
   "metadata": {
    "colab": {
     "base_uri": "https://localhost:8080/"
    },
    "executionInfo": {
     "elapsed": 1495,
     "status": "ok",
     "timestamp": 1605108186049,
     "user": {
      "displayName": "Shubham Prakash WiyImcVBax",
      "photoUrl": "",
      "userId": "04105622286568371892"
     },
     "user_tz": -330
    },
    "id": "J8qD6owR5oA_",
    "outputId": "e2f1bee8-a8d7-44a6-ff40-d847fb1b6eaa"
   },
   "outputs": [
    {
     "data": {
      "text/plain": [
       "[0, 1, 4, 9, 16, 25, 36, 49, 64, 81, 100, 121]"
      ]
     },
     "execution_count": 12,
     "metadata": {
      "tags": []
     },
     "output_type": "execute_result"
    }
   ],
   "source": [
    "[nuba**2 for nuba in range(12)]"
   ]
  },
  {
   "cell_type": "markdown",
   "metadata": {
    "id": "LsAGZxumzwb4"
   },
   "source": [
    "# Questions 3:\n",
    "You have seen in the videos how powerful dictionary data structure is.\n",
    "In this assignment, given a number n, you have to write a program that generates a dictionary d which\n",
    "contains (i, i*i), where i is from 1 to n (both included).\n",
    "Then you have to just print this dictionary d."
   ]
  },
  {
   "cell_type": "code",
   "execution_count": 16,
   "metadata": {
    "colab": {
     "base_uri": "https://localhost:8080/"
    },
    "executionInfo": {
     "elapsed": 4259,
     "status": "ok",
     "timestamp": 1605108316870,
     "user": {
      "displayName": "Shubham Prakash WiyImcVBax",
      "photoUrl": "",
      "userId": "04105622286568371892"
     },
     "user_tz": -330
    },
    "id": "YO-XORff6BMM",
    "outputId": "121b78c8-c505-4a26-9e51-5ccfd30c5451"
   },
   "outputs": [
    {
     "name": "stdout",
     "output_type": "stream",
     "text": [
      "Input a number 4\n",
      "{1: 1, 2: 4, 3: 9, 4: 16}\n"
     ]
    }
   ],
   "source": [
    "n=int(input(\"Input a number \"))\n",
    "d=dict()\n",
    "for x in range(1,n+1):\n",
    "    d[x]=x*x\n",
    "    \n",
    "print(d)"
   ]
  },
  {
   "cell_type": "markdown",
   "metadata": {
    "id": "li2ywfRLzwzd"
   },
   "source": [
    "# Question 4:\n",
    "Write a program to compute the distance between the current position after\n",
    "a sequence of movement and original point. If the distance is a float, then\n",
    "just print the nearest integer (use round() function for that and then convert\n",
    "it into an integer)."
   ]
  },
  {
   "cell_type": "code",
   "execution_count": 20,
   "metadata": {
    "colab": {
     "base_uri": "https://localhost:8080/"
    },
    "executionInfo": {
     "elapsed": 5049,
     "status": "ok",
     "timestamp": 1605108589572,
     "user": {
      "displayName": "Shubham Prakash WiyImcVBax",
      "photoUrl": "",
      "userId": "04105622286568371892"
     },
     "user_tz": -330
    },
    "id": "CQgC92kbzoyw",
    "outputId": "668aae4b-30cf-4fb7-b9ac-7d41e66a9d00",
    "scrolled": true
   },
   "outputs": [
    {
     "name": "stdout",
     "output_type": "stream",
     "text": [
      "Type in UP/DOWN/LEFT/RIGHT #step number: 5\n",
      "2.23606797749979 from [0,0] to [-1, 2]\n"
     ]
    }
   ],
   "source": [
    "import math\n",
    "#Init vars\n",
    "pos=[0,0]\n",
    "moves={\"UP\":[0,1],\n",
    "       \"DOWN\":[0,-1],\n",
    "       \"LEFT\":[-1,0],\n",
    "       \"RIGHT\":[1,0]}\n",
    "\n",
    "#Set inputs\n",
    "step = input(\"Type in UP/DOWN/LEFT/RIGHT #step number: \")\n",
    "data=[\"UP 5\",\n",
    "    \"DOWN 3\",\n",
    "    \"LEFT 3\",\n",
    "    \"RIGHT 2\"]\n",
    "\n",
    "#Move robot on valid moves\n",
    "for inp in data:\n",
    "    \n",
    "    parts=inp.split()    \n",
    "    mv=parts[0]\n",
    "    val=parts[1]\n",
    "    if mv in moves and val.isnumeric():\n",
    "        pos[0] += moves[mv][0]*int(val)\n",
    "        pos[1] += moves[mv][1]*int(val)\n",
    "\n",
    "#get distance     \n",
    "distance=math.sqrt(pos[0]**2 + pos[1]**2)\n",
    "print(distance, \"from [0,0] to\",pos)"
   ]
  }
 ],
 "metadata": {
  "colab": {
   "authorship_tag": "ABX9TyMHzJ46DYlx0lMBTUhfTNMP",
   "collapsed_sections": [],
   "name": "Day2Assignment.ipynb",
   "provenance": []
  },
  "kernelspec": {
   "display_name": "Python 3",
   "language": "python",
   "name": "python3"
  },
  "language_info": {
   "codemirror_mode": {
    "name": "ipython",
    "version": 3
   },
   "file_extension": ".py",
   "mimetype": "text/x-python",
   "name": "python",
   "nbconvert_exporter": "python",
   "pygments_lexer": "ipython3",
   "version": "3.7.8"
  }
 },
 "nbformat": 4,
 "nbformat_minor": 1
}
